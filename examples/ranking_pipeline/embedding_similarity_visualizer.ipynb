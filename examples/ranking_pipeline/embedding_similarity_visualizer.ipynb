{
 "cells": [
  {
   "cell_type": "code",
   "execution_count": 14,
   "metadata": {
    "collapsed": true
   },
   "outputs": [],
   "source": [
    "import json\n",
    "import pandas as pd\n",
    "\n",
    "pd.options.display.max_colwidth = 10000"
   ]
  },
  {
   "cell_type": "code",
   "execution_count": 15,
   "metadata": {},
   "outputs": [],
   "source": [
    "results_loc = '/Users/ljf/PycharmProjects/etk/examples/ranking_pipeline/resources/'\n",
    "USE_results = 'USE_first_five_skeletons.json'"
   ]
  },
  {
   "cell_type": "code",
   "execution_count": 21,
   "metadata": {},
   "outputs": [
    {
     "name": "stdout",
     "output_type": "stream",
     "text": [
      "Query: What will be the short-term interest rate for South Korea (KOR) in July 2018\n\nUniversal Sentence Encoder Ranking Results\n    n docs: 5\n"
     ]
    }
   ],
   "source": [
    "f_query_doc = 'f_queries.json'\n",
    "with open(results_loc + f_query_doc, 'r') as f:\n",
    "    formatted_queries = json.load(f)\n",
    "    \n",
    "original_queries = list()\n",
    "for orig_query, _ in formatted_queries.items():\n",
    "    original_queries.append(orig_query)\n",
    "    \n",
    "query = original_queries[1]\n",
    "print('Query: {}'.format(query))\n",
    "print('')\n",
    "\n",
    "with open(results_loc + USE_results, 'r') as f:\n",
    "    USE_skeletons = json.load(f)\n",
    "    \n",
    "print('Universal Sentence Encoder Ranking Results')\n",
    "print('    n docs: {}'.format(len(USE_skeletons)))\n"
   ]
  },
  {
   "cell_type": "code",
   "execution_count": 35,
   "metadata": {},
   "outputs": [],
   "source": [
    "doc_number = 4\n",
    "scored_content = USE_skeletons[doc_number]['scored_content']"
   ]
  },
  {
   "cell_type": "code",
   "execution_count": 36,
   "metadata": {},
   "outputs": [
    {
     "name": "stdout",
     "output_type": "stream",
     "text": [
      "Number of sentences compared to query: 11\n"
     ]
    }
   ],
   "source": [
    "n_sentences = scored_content['len']\n",
    "\n",
    "scores = list()\n",
    "text = list()\n",
    "for i in range(n_sentences):\n",
    "    scores.append(scored_content[str(i)][0])\n",
    "    text.append(scored_content[str(i)][1])\n",
    "    \n",
    "print('Number of sentences compared to query: {}'.format(n_sentences))"
   ]
  },
  {
   "cell_type": "code",
   "execution_count": 37,
   "metadata": {},
   "outputs": [
    {
     "name": "stdout",
     "output_type": "stream",
     "text": [
      "Query: What will be the short-term interest rate for South Korea (KOR) in July 2018\n\nMax similarity score: 0.418\nMin similarity score: 0.030\nAvg similarity score: 0.211\nVariance of similarity scores: 0.010\n"
     ]
    },
    {
     "data": {
      "text/html": [
       "<div>\n",
       "<style scoped>\n",
       "    .dataframe tbody tr th:only-of-type {\n",
       "        vertical-align: middle;\n",
       "    }\n",
       "\n",
       "    .dataframe tbody tr th {\n",
       "        vertical-align: top;\n",
       "    }\n",
       "\n",
       "    .dataframe thead th {\n",
       "        text-align: right;\n",
       "    }\n",
       "</style>\n",
       "<table border=\"1\" class=\"dataframe\">\n",
       "  <thead>\n",
       "    <tr style=\"text-align: right;\">\n",
       "      <th></th>\n",
       "      <th>Scores</th>\n",
       "      <th>Text</th>\n",
       "    </tr>\n",
       "  </thead>\n",
       "  <tbody>\n",
       "    <tr>\n",
       "      <th>0</th>\n",
       "      <td>0.198658</td>\n",
       "      <td>LG G7 Could Arrive with Dedicated AI Button &amp; Camera with F/1.5 Aperture</td>\n",
       "    </tr>\n",
       "    <tr>\n",
       "      <th>1</th>\n",
       "      <td>0.247575</td>\n",
       "      <td>TEHRAN (FNA)- According to a new report, LG's upcoming G-series handset will feature a button dedicated for AI and a rear camera with a f/1.5 aperture.</td>\n",
       "    </tr>\n",
       "    <tr>\n",
       "      <th>2</th>\n",
       "      <td>0.417563</td>\n",
       "      <td>While it was previously rumored to launch sometime in June, it is now being reported to make its debut in Seoul towards the end of April, with a release in May for South Korea.</td>\n",
       "    </tr>\n",
       "    <tr>\n",
       "      <th>3</th>\n",
       "      <td>0.165683</td>\n",
       "      <td>The news of an AI button seems to corroborate unofficial renders that were released, showing off an additional button on the side of the handset.</td>\n",
       "    </tr>\n",
       "    <tr>\n",
       "      <th>4</th>\n",
       "      <td>0.208092</td>\n",
       "      <td>This look would bring it in line with what can be seen on Samsung's Galaxy S8 and Galaxy S9 smartphones.</td>\n",
       "    </tr>\n",
       "    <tr>\n",
       "      <th>5</th>\n",
       "      <td>0.121045</td>\n",
       "      <td>If the AI button is real, it will be interesting to see whether LG will allow users to remap the button to a shortcut of their choosing.</td>\n",
       "    </tr>\n",
       "    <tr>\n",
       "      <th>6</th>\n",
       "      <td>0.120565</td>\n",
       "      <td>But if the past is any indication, this will most likely not be an option.</td>\n",
       "    </tr>\n",
       "    <tr>\n",
       "      <th>7</th>\n",
       "      <td>0.266169</td>\n",
       "      <td>LG has done quite a bit when it comes to cameras on its smartphones, and the upcoming G7 will be no exception.</td>\n",
       "    </tr>\n",
       "    <tr>\n",
       "      <th>8</th>\n",
       "      <td>0.233057</td>\n",
       "      <td>The report states that the G7 will have a rear camera with a f/1.5 aperture, which is the same as the apperture on Samsung's Galaxy S9.</td>\n",
       "    </tr>\n",
       "    <tr>\n",
       "      <th>9</th>\n",
       "      <td>0.029653</td>\n",
       "      <td>A wider aperture will come in handy for those that like to take pictures in low light, as it will most likely produce better results.</td>\n",
       "    </tr>\n",
       "    <tr>\n",
       "      <th>10</th>\n",
       "      <td>0.315975</td>\n",
       "      <td>If the LG G7 will make its debut at the end of the month, we won't have much longer to wait.  http://imgs.syndigate.info/129/363/7/152274605250.jpg  LG G7 Could Arrive with Dedicated AI Button &amp; Camera with F/1.5 Aperture</td>\n",
       "    </tr>\n",
       "  </tbody>\n",
       "</table>\n",
       "</div>"
      ],
      "text/plain": [
       "<div>\n",
       "<style scoped>\n",
       "    .dataframe tbody tr th:only-of-type {\n",
       "        vertical-align: middle;\n",
       "    }\n",
       "\n",
       "    .dataframe tbody tr th {\n",
       "        vertical-align: top;\n",
       "    }\n",
       "\n",
       "    .dataframe thead th {\n",
       "        text-align: right;\n",
       "    }\n",
       "</style>\n",
       "<table border=\"1\" class=\"dataframe\">\n",
       "  <thead>\n",
       "    <tr style=\"text-align: right;\">\n",
       "      <th></th>\n",
       "      <th>Scores</th>\n",
       "      <th>Text</th>\n",
       "    </tr>\n",
       "  </thead>\n",
       "  <tbody>\n",
       "    <tr>\n",
       "      <th>0</th>\n",
       "      <td>0.198658</td>\n",
       "      <td>LG G7 Could Arrive with Dedicated AI Button &amp; Camera with F/1.5 Aperture</td>\n",
       "    </tr>\n",
       "    <tr>\n",
       "      <th>1</th>\n",
       "      <td>0.247575</td>\n",
       "      <td>TEHRAN (FNA)- According to a new report, LG's upcoming G-series handset will feature a button dedicated for AI and a rear camera with a f/1.5 aperture.</td>\n",
       "    </tr>\n",
       "    <tr>\n",
       "      <th>2</th>\n",
       "      <td>0.417563</td>\n",
       "      <td>While it was previously rumored to launch sometime in June, it is now being reported to make its debut in Seoul towards the end of April, with a release in May for South Korea.</td>\n",
       "    </tr>\n",
       "    <tr>\n",
       "      <th>3</th>\n",
       "      <td>0.165683</td>\n",
       "      <td>The news of an AI button seems to corroborate unofficial renders that were released, showing off an additional button on the side of the handset.</td>\n",
       "    </tr>\n",
       "    <tr>\n",
       "      <th>4</th>\n",
       "      <td>0.208092</td>\n",
       "      <td>This look would bring it in line with what can be seen on Samsung's Galaxy S8 and Galaxy S9 smartphones.</td>\n",
       "    </tr>\n",
       "    <tr>\n",
       "      <th>5</th>\n",
       "      <td>0.121045</td>\n",
       "      <td>If the AI button is real, it will be interesting to see whether LG will allow users to remap the button to a shortcut of their choosing.</td>\n",
       "    </tr>\n",
       "    <tr>\n",
       "      <th>6</th>\n",
       "      <td>0.120565</td>\n",
       "      <td>But if the past is any indication, this will most likely not be an option.</td>\n",
       "    </tr>\n",
       "    <tr>\n",
       "      <th>7</th>\n",
       "      <td>0.266169</td>\n",
       "      <td>LG has done quite a bit when it comes to cameras on its smartphones, and the upcoming G7 will be no exception.</td>\n",
       "    </tr>\n",
       "    <tr>\n",
       "      <th>8</th>\n",
       "      <td>0.233057</td>\n",
       "      <td>The report states that the G7 will have a rear camera with a f/1.5 aperture, which is the same as the apperture on Samsung's Galaxy S9.</td>\n",
       "    </tr>\n",
       "    <tr>\n",
       "      <th>9</th>\n",
       "      <td>0.029653</td>\n",
       "      <td>A wider aperture will come in handy for those that like to take pictures in low light, as it will most likely produce better results.</td>\n",
       "    </tr>\n",
       "    <tr>\n",
       "      <th>10</th>\n",
       "      <td>0.315975</td>\n",
       "      <td>If the LG G7 will make its debut at the end of the month, we won't have much longer to wait.  http://imgs.syndigate.info/129/363/7/152274605250.jpg  LG G7 Could Arrive with Dedicated AI Button &amp; Camera with F/1.5 Aperture</td>\n",
       "    </tr>\n",
       "  </tbody>\n",
       "</table>\n",
       "</div>"
      ]
     },
     "execution_count": 37,
     "metadata": {},
     "output_type": "execute_result"
    }
   ],
   "source": [
    "print('Query: {}'.format(query))\n",
    "\n",
    "print('\\nMax similarity score: {:.3f}'.format(scored_content['max']))\n",
    "print('Min similarity score: {:.3f}'.format(scored_content['min']))\n",
    "print('Avg similarity score: {:.3f}'.format(scored_content['avg']))\n",
    "print('Variance of similarity scores: {:.3f}'.format(scored_content['var']))\n",
    "\n",
    "pd.DataFrame({'Scores': scores, 'Text': text})"
   ]
  },
  {
   "cell_type": "code",
   "execution_count": null,
   "metadata": {},
   "outputs": [],
   "source": []
  }
 ],
 "metadata": {
  "kernelspec": {
   "display_name": "Python 2",
   "language": "python",
   "name": "python2"
  },
  "language_info": {
   "codemirror_mode": {
    "name": "ipython",
    "version": 2
   },
   "file_extension": ".py",
   "mimetype": "text/x-python",
   "name": "python",
   "nbconvert_exporter": "python",
   "pygments_lexer": "ipython2",
   "version": "2.7.6"
  }
 },
 "nbformat": 4,
 "nbformat_minor": 0
}
